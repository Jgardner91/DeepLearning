{
 "cells": [
  {
   "cell_type": "code",
   "execution_count": 1,
   "id": "developed-saskatchewan",
   "metadata": {},
   "outputs": [],
   "source": [
    "from tensorflow import keras\n",
    "from tensorflow.keras import layers\n",
    "\n",
    "inputs = keras.Input(shape=(180, 180, 3))\n",
    "x = layers.experimental.preprocessing.Rescaling(1./255)(inputs)\n",
    "x = layers.Conv2D(filters=32, kernel_size=3, activation=\"relu\")(x)\n",
    "x = layers.MaxPooling2D(pool_size=2)(x)\n",
    "x = layers.Conv2D(filters=64, kernel_size=3, activation=\"relu\")(x)\n",
    "x = layers.MaxPooling2D(pool_size=2)(x)\n",
    "x = layers.Conv2D(filters=128, kernel_size=3, activation=\"relu\")(x)\n",
    "x = layers.MaxPooling2D(pool_size=2)(x)\n",
    "x = layers.Conv2D(filters=256, kernel_size=3, activation=\"relu\")(x)\n",
    "x = layers.MaxPooling2D(pool_size=2)(x)\n",
    "x = layers.Conv2D(filters=256, kernel_size=3, activation=\"relu\")(x)\n",
    "x = layers.Flatten()(x)\n",
    "outputs = layers.Dense(1, activation=\"sigmoid\")(x)\n",
    "model = keras.Model(inputs=inputs, outputs=outputs)"
   ]
  },
  {
   "cell_type": "code",
   "execution_count": 18,
   "id": "serious-regression",
   "metadata": {},
   "outputs": [],
   "source": [
    "model.compile(loss=\"binary_crossentropy\",\n",
    "              optimizer=\"rmsprop\",\n",
    "              metrics=[\"accuracy\"])"
   ]
  },
  {
   "cell_type": "code",
   "execution_count": 9,
   "id": "greatest-break",
   "metadata": {},
   "outputs": [],
   "source": [
    "import os, shutil, pathlib\n",
    "train_dir = pathlib.Path('/Users/jamesgardner/Desktop/ConvolutionalNN/Small/train')\n",
    "validation_dir = pathlib.Path('/Users/jamesgardner/Desktop/ConvolutionalNN/Small/validation')\n",
    "test_dir = pathlib.Path('/Users/jamesgardner/Desktop/ConvolutionalNN/Small/test')"
   ]
  },
  {
   "cell_type": "code",
   "execution_count": 10,
   "id": "visible-ownership",
   "metadata": {},
   "outputs": [
    {
     "name": "stdout",
     "output_type": "stream",
     "text": [
      "Found 2398 files belonging to 2 classes.\n",
      "Found 800 files belonging to 2 classes.\n",
      "Found 800 files belonging to 2 classes.\n"
     ]
    }
   ],
   "source": [
    "from tensorflow.keras.preprocessing import image_dataset_from_directory\n",
    "\n",
    "train_dataset = image_dataset_from_directory(\n",
    "    train_dir,\n",
    "    image_size=(180, 180),\n",
    "    batch_size=32)\n",
    "validation_dataset = image_dataset_from_directory(\n",
    "    validation_dir,\n",
    "    image_size=(180, 180),\n",
    "    batch_size=32)\n",
    "test_dataset = image_dataset_from_directory(\n",
    "    test_dir,\n",
    "    image_size=(180, 180),\n",
    "    batch_size=32)"
   ]
  },
  {
   "cell_type": "code",
   "execution_count": 14,
   "id": "seven-strike",
   "metadata": {},
   "outputs": [],
   "source": [
    "import numpy as np\n",
    "import tensorflow as tf\n",
    "random_numbers = np.random.normal(size=(1000, 16))\n",
    "dataset = tf.data.Dataset.from_tensor_slices(random_numbers)"
   ]
  },
  {
   "cell_type": "code",
   "execution_count": 15,
   "id": "dietary-category",
   "metadata": {},
   "outputs": [
    {
     "name": "stdout",
     "output_type": "stream",
     "text": [
      "(16,)\n",
      "(16,)\n",
      "(16,)\n"
     ]
    }
   ],
   "source": [
    "for i, element in enumerate(dataset):\n",
    "    print(element.shape)\n",
    "    if i >= 2:\n",
    "        break"
   ]
  },
  {
   "cell_type": "code",
   "execution_count": 16,
   "id": "danish-economy",
   "metadata": {},
   "outputs": [
    {
     "name": "stdout",
     "output_type": "stream",
     "text": [
      "(4, 4)\n",
      "(4, 4)\n",
      "(4, 4)\n"
     ]
    }
   ],
   "source": [
    "reshaped_dataset = dataset.map(lambda x: tf.reshape(x, (4, 4)))\n",
    "for i, element in enumerate(reshaped_dataset):\n",
    "    print(element.shape)\n",
    "    if i >= 2:\n",
    "        break"
   ]
  },
  {
   "cell_type": "code",
   "execution_count": 20,
   "id": "patient-portable",
   "metadata": {},
   "outputs": [
    {
     "name": "stdout",
     "output_type": "stream",
     "text": [
      "data batch shape: (32, 180, 180, 3)\n",
      "labels batch shape: (32,)\n"
     ]
    }
   ],
   "source": [
    "for data_batch, labels_batch in train_dataset:\n",
    "    print(\"data batch shape:\", data_batch.shape)\n",
    "    print(\"labels batch shape:\", labels_batch.shape)\n",
    "    break"
   ]
  },
  {
   "cell_type": "code",
   "execution_count": 19,
   "id": "final-earthquake",
   "metadata": {},
   "outputs": [
    {
     "name": "stdout",
     "output_type": "stream",
     "text": [
      "Epoch 1/30\n",
      "75/75 [==============================] - 62s 812ms/step - loss: 0.7055 - accuracy: 0.5496 - val_loss: 0.6672 - val_accuracy: 0.6062\n",
      "Epoch 2/30\n",
      "75/75 [==============================] - 61s 814ms/step - loss: 0.6801 - accuracy: 0.5867 - val_loss: 0.6749 - val_accuracy: 0.5362\n",
      "Epoch 3/30\n",
      "75/75 [==============================] - 61s 817ms/step - loss: 0.6468 - accuracy: 0.6264 - val_loss: 0.6126 - val_accuracy: 0.6650\n",
      "Epoch 4/30\n",
      "75/75 [==============================] - 62s 819ms/step - loss: 0.6231 - accuracy: 0.6505 - val_loss: 0.5982 - val_accuracy: 0.6725\n",
      "Epoch 5/30\n",
      "75/75 [==============================] - 61s 813ms/step - loss: 0.5974 - accuracy: 0.6835 - val_loss: 0.5990 - val_accuracy: 0.6862\n",
      "Epoch 6/30\n",
      "75/75 [==============================] - 61s 813ms/step - loss: 0.5696 - accuracy: 0.7068 - val_loss: 0.5936 - val_accuracy: 0.6562\n",
      "Epoch 7/30\n",
      "75/75 [==============================] - 61s 810ms/step - loss: 0.5289 - accuracy: 0.7373 - val_loss: 0.5387 - val_accuracy: 0.7237\n",
      "Epoch 8/30\n",
      "75/75 [==============================] - 62s 820ms/step - loss: 0.4901 - accuracy: 0.7636 - val_loss: 0.5060 - val_accuracy: 0.7500\n",
      "Epoch 9/30\n",
      "75/75 [==============================] - 61s 816ms/step - loss: 0.4674 - accuracy: 0.7781 - val_loss: 0.5034 - val_accuracy: 0.7563\n",
      "Epoch 10/30\n",
      "75/75 [==============================] - 62s 819ms/step - loss: 0.4091 - accuracy: 0.8132 - val_loss: 0.4926 - val_accuracy: 0.7500\n",
      "Epoch 11/30\n",
      "75/75 [==============================] - 62s 821ms/step - loss: 0.3460 - accuracy: 0.8457 - val_loss: 0.4690 - val_accuracy: 0.7738\n",
      "Epoch 12/30\n",
      "75/75 [==============================] - 62s 818ms/step - loss: 0.3060 - accuracy: 0.8674 - val_loss: 0.5087 - val_accuracy: 0.7950\n",
      "Epoch 13/30\n",
      "75/75 [==============================] - 61s 814ms/step - loss: 0.2756 - accuracy: 0.8841 - val_loss: 0.5302 - val_accuracy: 0.7788\n",
      "Epoch 14/30\n",
      "75/75 [==============================] - 61s 815ms/step - loss: 0.2308 - accuracy: 0.9053 - val_loss: 0.7387 - val_accuracy: 0.7613\n",
      "Epoch 15/30\n",
      "75/75 [==============================] - 61s 816ms/step - loss: 0.2075 - accuracy: 0.9191 - val_loss: 0.5354 - val_accuracy: 0.8225\n",
      "Epoch 16/30\n",
      "75/75 [==============================] - 62s 825ms/step - loss: 0.1934 - accuracy: 0.9233 - val_loss: 0.5547 - val_accuracy: 0.8188\n",
      "Epoch 17/30\n",
      "75/75 [==============================] - 61s 815ms/step - loss: 0.1311 - accuracy: 0.9454 - val_loss: 0.6888 - val_accuracy: 0.7812\n",
      "Epoch 18/30\n",
      "75/75 [==============================] - 62s 821ms/step - loss: 0.1310 - accuracy: 0.9508 - val_loss: 0.7279 - val_accuracy: 0.7937\n",
      "Epoch 19/30\n",
      "75/75 [==============================] - 62s 823ms/step - loss: 0.1062 - accuracy: 0.9646 - val_loss: 0.7010 - val_accuracy: 0.8338\n",
      "Epoch 20/30\n",
      "75/75 [==============================] - 62s 820ms/step - loss: 0.0936 - accuracy: 0.9716 - val_loss: 0.9571 - val_accuracy: 0.7937\n",
      "Epoch 21/30\n",
      "75/75 [==============================] - 61s 816ms/step - loss: 0.1241 - accuracy: 0.9575 - val_loss: 0.6677 - val_accuracy: 0.8238\n",
      "Epoch 22/30\n",
      "75/75 [==============================] - 61s 814ms/step - loss: 0.0743 - accuracy: 0.9779 - val_loss: 0.9134 - val_accuracy: 0.8125\n",
      "Epoch 23/30\n",
      "75/75 [==============================] - 62s 817ms/step - loss: 0.0937 - accuracy: 0.9704 - val_loss: 0.9463 - val_accuracy: 0.8125\n",
      "Epoch 24/30\n",
      "75/75 [==============================] - 61s 817ms/step - loss: 0.0783 - accuracy: 0.9754 - val_loss: 0.9618 - val_accuracy: 0.7912\n",
      "Epoch 25/30\n",
      "75/75 [==============================] - 61s 816ms/step - loss: 0.0770 - accuracy: 0.9775 - val_loss: 1.2285 - val_accuracy: 0.8037\n",
      "Epoch 26/30\n",
      "75/75 [==============================] - 61s 814ms/step - loss: 0.0851 - accuracy: 0.9737 - val_loss: 1.0622 - val_accuracy: 0.8213\n",
      "Epoch 27/30\n",
      "75/75 [==============================] - 62s 821ms/step - loss: 0.0610 - accuracy: 0.9833 - val_loss: 1.1591 - val_accuracy: 0.8213\n",
      "Epoch 28/30\n",
      "75/75 [==============================] - 61s 817ms/step - loss: 0.0672 - accuracy: 0.9804 - val_loss: 1.2725 - val_accuracy: 0.8075\n",
      "Epoch 29/30\n",
      "75/75 [==============================] - 61s 817ms/step - loss: 0.0831 - accuracy: 0.9791 - val_loss: 1.0508 - val_accuracy: 0.8213\n",
      "Epoch 30/30\n",
      "75/75 [==============================] - 63s 832ms/step - loss: 0.0633 - accuracy: 0.9825 - val_loss: 1.0473 - val_accuracy: 0.8175\n"
     ]
    }
   ],
   "source": [
    "callbacks = [\n",
    "    keras.callbacks.ModelCheckpoint(\n",
    "        filepath=\"convnet_from_scratch.keras\",\n",
    "        save_best_only=True,\n",
    "        monitor=\"val_loss\")\n",
    "]\n",
    "history = model.fit(\n",
    "    train_dataset,\n",
    "    epochs=30,\n",
    "    validation_data=validation_dataset,\n",
    "    callbacks=callbacks)"
   ]
  },
  {
   "cell_type": "code",
   "execution_count": null,
   "id": "affected-burke",
   "metadata": {},
   "outputs": [],
   "source": []
  }
 ],
 "metadata": {
  "kernelspec": {
   "display_name": "Python [conda env:metis] *",
   "language": "python",
   "name": "conda-env-metis-py"
  },
  "language_info": {
   "codemirror_mode": {
    "name": "ipython",
    "version": 3
   },
   "file_extension": ".py",
   "mimetype": "text/x-python",
   "name": "python",
   "nbconvert_exporter": "python",
   "pygments_lexer": "ipython3",
   "version": "3.8.8"
  }
 },
 "nbformat": 4,
 "nbformat_minor": 5
}
