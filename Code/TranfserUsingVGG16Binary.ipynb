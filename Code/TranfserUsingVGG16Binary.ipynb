{
 "cells": [
  {
   "cell_type": "markdown",
   "id": "starting-grain",
   "metadata": {},
   "source": [
    "# Transfer Learning \n",
    "\n",
    "Jimmy Gardner \n",
    "Metis 21'"
   ]
  },
  {
   "cell_type": "code",
   "execution_count": 12,
   "id": "hungry-company",
   "metadata": {},
   "outputs": [],
   "source": [
    "import os\n",
    "from pathlib import Path\n",
    "import shutil as sh"
   ]
  },
  {
   "cell_type": "code",
   "execution_count": 13,
   "id": "appropriate-active",
   "metadata": {},
   "outputs": [],
   "source": [
    "siberian_stock = '/Users/jamesgardner/Desktop/ConvolutionalNN/Siberian_Binary'\n",
    "scottish_stock = '/Users/jamesgardner/Desktop/ConvolutionalNN/Scottish_Binary'"
   ]
  },
  {
   "cell_type": "code",
   "execution_count": 14,
   "id": "angry-cloud",
   "metadata": {},
   "outputs": [],
   "source": [
    "base_directory = '/Users/jamesgardner/Desktop/ConvolutionalNN/Splts_new_Binary'\n",
    "os.mkdir(base_directory)\n"
   ]
  },
  {
   "cell_type": "code",
   "execution_count": 15,
   "id": "sharing-tattoo",
   "metadata": {},
   "outputs": [],
   "source": [
    "# train directory\n",
    "train = os.path.join(base_directory,'train')\n",
    "os.mkdir(train)\n",
    "\n",
    "# val directory\n",
    "val = os.path.join(base_directory,'validation')\n",
    "os.mkdir(val)\n",
    "\n",
    "# test directory\n",
    "test = os.path.join(base_directory,'test')\n",
    "os.mkdir(test)\n",
    "\n"
   ]
  },
  {
   "cell_type": "code",
   "execution_count": 16,
   "id": "armed-kitty",
   "metadata": {},
   "outputs": [],
   "source": [
    "# defining function for making train_val_test directories for each class\n",
    "def make_train_val_test(sub_directories,ttv_directiories,directory_names):\n",
    "    '''\n",
    "    \n",
    "    Output: train, validation , and test directories for each class\n",
    "    \n",
    "    sub_directories: list of names for each class\n",
    "    ttv_directories: train,test,split file paths\n",
    "    directory_names: name for each class directory splits\n",
    "    '''\n",
    "    \n",
    "    file_names = []\n",
    "    for i in range(2):\n",
    "        file_names_class = []\n",
    "        for j in range(len(ttv_directories)):\n",
    "            directory_names[i][j] = os.path.join(ttv_directories[j],sub_directories[i])\n",
    "            os.mkdir(directory_names[i][j])\n",
    "            file_names_class.append(directory_names[i][j])\n",
    "        file_names.append(file_names_class)\n",
    "    \n",
    "    return file_names"
   ]
  },
  {
   "cell_type": "code",
   "execution_count": 17,
   "id": "standard-milton",
   "metadata": {},
   "outputs": [],
   "source": [
    "def distribute_images(file_names,bas_dir):\n",
    "    \n",
    "    '''\n",
    "    Distributing images to each train, validation, and test directories for each class\n",
    "    \n",
    "    file_names: directories to put images in \n",
    "    base_dir: path to directories \n",
    "    \n",
    "    '''\n",
    "    \n",
    "    for i in range(len(bas_dir)):\n",
    "        parent_list = os.listdir(base_dir[i])\n",
    "        count=0\n",
    "    \n",
    "        for child in parent_list:\n",
    "            if count<1200:\n",
    "        \n",
    "            # /Users/jamesgardner/Desktop/ConvolutionalNN/Siberian/siberian0.jpg\n",
    "                src = os.path.join(base_dir[i], child)\n",
    "                dst = os.path.join(file_names[i][0], child)\n",
    "                sh.copyfile(src, dst)\n",
    "            \n",
    "            elif count >= 1200 and count <1600:\n",
    "                src = os.path.join(base_dir[i], child)\n",
    "                dst = os.path.join(file_names[i][1], child)\n",
    "                sh.copyfile(src, dst)\n",
    "            \n",
    "            elif count >= 1600 and count <2000:\n",
    "                src = os.path.join(base_dir[i], child)\n",
    "                dst = os.path.join(file_names[i][2], child)\n",
    "                sh.copyfile(src, dst)\n",
    "       \n",
    "            count += 1 "
   ]
  },
  {
   "cell_type": "code",
   "execution_count": 18,
   "id": "english-fetish",
   "metadata": {},
   "outputs": [],
   "source": [
    "# defining lists for use in make_train_val_test\n",
    "# add class name to sub_directories and directory_names if you want to extend to multi-class\n",
    "sub_directories = ['SF','SB']\n",
    "ttv_directories = [train,val,test]\n",
    "directory_names = [['train_scottish','val_scottish','test_scottish'],\n",
    "                   ['train_siberian','val_siberian','test_siberian']]\n",
    "base_dir = [scottish_stock,siberian_stock]\n",
    "\n",
    "file_names = make_train_val_test(sub_directories,ttv_directories,directory_names)\n",
    "distribute_images(file_names,base_dir)"
   ]
  },
  {
   "cell_type": "markdown",
   "id": "considered-harmony",
   "metadata": {},
   "source": [
    "# Feature Extraction using VGG16"
   ]
  },
  {
   "cell_type": "code",
   "execution_count": 19,
   "id": "prompt-separation",
   "metadata": {},
   "outputs": [],
   "source": [
    "import keras\n",
    "keras.__version__\n",
    "from tensorflow.keras.applications import VGG16\n",
    "\n",
    "# defining convolutional base\n",
    "conv_base = VGG16(weights='imagenet',\n",
    "                  include_top=False,\n",
    "                  input_shape=(150, 150, 3))\n",
    "\n"
   ]
  },
  {
   "cell_type": "code",
   "execution_count": 20,
   "id": "latin-colony",
   "metadata": {},
   "outputs": [
    {
     "name": "stdout",
     "output_type": "stream",
     "text": [
      "Found 2398 images belonging to 2 classes.\n",
      "Found 800 images belonging to 2 classes.\n",
      "Found 800 images belonging to 2 classes.\n"
     ]
    }
   ],
   "source": [
    "import numpy as np\n",
    "from keras.preprocessing.image import ImageDataGenerator\n",
    "# add to shape = (sample_count,however many classes)\n",
    "# change class_mode to 'catergorical'\n",
    "datagen = ImageDataGenerator(rescale=1./255)\n",
    "batch_size = 20\n",
    "def extract_features(directory, sample_count):\n",
    "    features = np.zeros(shape=(sample_count, 4, 4, 512))\n",
    "    labels = np.zeros(shape=(sample_count))\n",
    "    generator = datagen.flow_from_directory(\n",
    "        directory,\n",
    "        target_size=(150, 150),\n",
    "        batch_size=batch_size,\n",
    "        class_mode='binary',\n",
    "        shuffle=False)\n",
    "    \n",
    "    \n",
    "    i = 0\n",
    "    for inputs_batch, labels_batch in generator:\n",
    "        features_batch = conv_base.predict(inputs_batch)\n",
    "        features[i * batch_size : (i + 1) * batch_size] = features_batch\n",
    "        labels[i * batch_size : (i + 1) * batch_size] = labels_batch\n",
    "        i += 1\n",
    "        if i * batch_size >= sample_count:\n",
    "            # Note that since generators yield data indefinitely in a loop,\n",
    "            # we must `break` after every image has been seen once.\n",
    "            break\n",
    "    \n",
    "    \n",
    "    return features, labels, generator\n",
    "\n",
    "train_features, train_labels,generator_train = extract_features(train, 2398)\n",
    "validation_features, validation_labels,generator_val = extract_features(val, 800)\n",
    "test_features, test_labels,generator_test = extract_features(test, 800)\n"
   ]
  },
  {
   "cell_type": "markdown",
   "id": "dramatic-herald",
   "metadata": {},
   "source": [
    "# Reshaping for model use"
   ]
  },
  {
   "cell_type": "code",
   "execution_count": 21,
   "id": "scenic-anxiety",
   "metadata": {},
   "outputs": [],
   "source": [
    "train_features = np.reshape(train_features, (2398, 4 * 4 * 512))\n",
    "validation_features = np.reshape(validation_features, (800, 4 * 4 * 512))\n",
    "test_features = np.reshape(test_features, (800, 4 * 4 * 512))\n"
   ]
  },
  {
   "cell_type": "markdown",
   "id": "surface-addition",
   "metadata": {},
   "source": [
    "# Running Model (Transfer Learning)"
   ]
  },
  {
   "cell_type": "code",
   "execution_count": 22,
   "id": "caring-concert",
   "metadata": {},
   "outputs": [
    {
     "name": "stderr",
     "output_type": "stream",
     "text": [
      "/Users/jamesgardner/opt/anaconda3/envs/metis/lib/python3.8/site-packages/tensorflow/python/keras/optimizer_v2/optimizer_v2.py:374: UserWarning: The `lr` argument is deprecated, use `learning_rate` instead.\n",
      "  warnings.warn(\n"
     ]
    },
    {
     "name": "stdout",
     "output_type": "stream",
     "text": [
      "Epoch 1/55\n",
      "120/120 [==============================] - 14s 11ms/step - loss: 0.7403 - acc: 0.5511 - val_loss: 0.5364 - val_acc: 0.7300\n",
      "Epoch 2/55\n",
      "120/120 [==============================] - 1s 8ms/step - loss: 0.5039 - acc: 0.7622 - val_loss: 0.4535 - val_acc: 0.8075\n",
      "Epoch 3/55\n",
      "120/120 [==============================] - 1s 8ms/step - loss: 0.4327 - acc: 0.8099 - val_loss: 0.4348 - val_acc: 0.8037\n",
      "Epoch 4/55\n",
      "120/120 [==============================] - 1s 8ms/step - loss: 0.3843 - acc: 0.8342 - val_loss: 0.3814 - val_acc: 0.8338\n",
      "Epoch 5/55\n",
      "120/120 [==============================] - 1s 8ms/step - loss: 0.3423 - acc: 0.8623 - val_loss: 0.3620 - val_acc: 0.8487\n",
      "Epoch 6/55\n",
      "120/120 [==============================] - 1s 8ms/step - loss: 0.3523 - acc: 0.8519 - val_loss: 0.3529 - val_acc: 0.8525\n",
      "Epoch 7/55\n",
      "120/120 [==============================] - 1s 9ms/step - loss: 0.3211 - acc: 0.8643 - val_loss: 0.3390 - val_acc: 0.8575\n",
      "Epoch 8/55\n",
      "120/120 [==============================] - 1s 9ms/step - loss: 0.2913 - acc: 0.8775 - val_loss: 0.3323 - val_acc: 0.8637\n",
      "Epoch 9/55\n",
      "120/120 [==============================] - 1s 9ms/step - loss: 0.2693 - acc: 0.8868 - val_loss: 0.3234 - val_acc: 0.8687\n",
      "Epoch 10/55\n",
      "120/120 [==============================] - 1s 8ms/step - loss: 0.2490 - acc: 0.9055 - val_loss: 0.3222 - val_acc: 0.8725\n",
      "Epoch 11/55\n",
      "120/120 [==============================] - 1s 9ms/step - loss: 0.2504 - acc: 0.9057 - val_loss: 0.3099 - val_acc: 0.8725\n",
      "Epoch 12/55\n",
      "120/120 [==============================] - 1s 8ms/step - loss: 0.2252 - acc: 0.9260 - val_loss: 0.3125 - val_acc: 0.8650\n",
      "Epoch 13/55\n",
      "120/120 [==============================] - 1s 9ms/step - loss: 0.2137 - acc: 0.9205 - val_loss: 0.3053 - val_acc: 0.8763\n",
      "Epoch 14/55\n",
      "120/120 [==============================] - 1s 9ms/step - loss: 0.2253 - acc: 0.9162 - val_loss: 0.2955 - val_acc: 0.8825\n",
      "Epoch 15/55\n",
      "120/120 [==============================] - 1s 9ms/step - loss: 0.1956 - acc: 0.9317 - val_loss: 0.2921 - val_acc: 0.8825\n",
      "Epoch 16/55\n",
      "120/120 [==============================] - 1s 8ms/step - loss: 0.1955 - acc: 0.9226 - val_loss: 0.2892 - val_acc: 0.8863\n",
      "Epoch 17/55\n",
      "120/120 [==============================] - 1s 8ms/step - loss: 0.1819 - acc: 0.9369 - val_loss: 0.3055 - val_acc: 0.8700\n",
      "Epoch 18/55\n",
      "120/120 [==============================] - 1s 8ms/step - loss: 0.1862 - acc: 0.9340 - val_loss: 0.2870 - val_acc: 0.8875\n",
      "Epoch 19/55\n",
      "120/120 [==============================] - 1s 8ms/step - loss: 0.1799 - acc: 0.9339 - val_loss: 0.2821 - val_acc: 0.8925\n",
      "Epoch 20/55\n",
      "120/120 [==============================] - 1s 9ms/step - loss: 0.1683 - acc: 0.9395 - val_loss: 0.2817 - val_acc: 0.8963\n",
      "Epoch 21/55\n",
      "120/120 [==============================] - 1s 8ms/step - loss: 0.1548 - acc: 0.9470 - val_loss: 0.2820 - val_acc: 0.8888\n",
      "Epoch 22/55\n",
      "120/120 [==============================] - 1s 8ms/step - loss: 0.1572 - acc: 0.9524 - val_loss: 0.2787 - val_acc: 0.8888\n",
      "Epoch 23/55\n",
      "120/120 [==============================] - 1s 8ms/step - loss: 0.1486 - acc: 0.9515 - val_loss: 0.2806 - val_acc: 0.8925\n",
      "Epoch 24/55\n",
      "120/120 [==============================] - 1s 8ms/step - loss: 0.1385 - acc: 0.9613 - val_loss: 0.2853 - val_acc: 0.8925\n",
      "Epoch 25/55\n",
      "120/120 [==============================] - 1s 8ms/step - loss: 0.1433 - acc: 0.9534 - val_loss: 0.2801 - val_acc: 0.9000\n",
      "Epoch 26/55\n",
      "120/120 [==============================] - 1s 8ms/step - loss: 0.1280 - acc: 0.9570 - val_loss: 0.2750 - val_acc: 0.8963\n",
      "Epoch 27/55\n",
      "120/120 [==============================] - 1s 8ms/step - loss: 0.1366 - acc: 0.9526 - val_loss: 0.2785 - val_acc: 0.8938\n",
      "Epoch 28/55\n",
      "120/120 [==============================] - 1s 8ms/step - loss: 0.1118 - acc: 0.9680 - val_loss: 0.2742 - val_acc: 0.8963\n",
      "Epoch 29/55\n",
      "120/120 [==============================] - 1s 8ms/step - loss: 0.1025 - acc: 0.9760 - val_loss: 0.2747 - val_acc: 0.8988\n",
      "Epoch 30/55\n",
      "120/120 [==============================] - 1s 8ms/step - loss: 0.1021 - acc: 0.9714 - val_loss: 0.2751 - val_acc: 0.8925\n",
      "Epoch 31/55\n",
      "120/120 [==============================] - 1s 8ms/step - loss: 0.0986 - acc: 0.9779 - val_loss: 0.2711 - val_acc: 0.9000\n",
      "Epoch 32/55\n",
      "120/120 [==============================] - 1s 8ms/step - loss: 0.1033 - acc: 0.9708 - val_loss: 0.2750 - val_acc: 0.9000\n",
      "Epoch 33/55\n",
      "120/120 [==============================] - 1s 8ms/step - loss: 0.0971 - acc: 0.9749 - val_loss: 0.2779 - val_acc: 0.9000\n",
      "Epoch 34/55\n",
      "120/120 [==============================] - 1s 9ms/step - loss: 0.0933 - acc: 0.9757 - val_loss: 0.2764 - val_acc: 0.9038\n",
      "Epoch 35/55\n",
      "120/120 [==============================] - 1s 9ms/step - loss: 0.0924 - acc: 0.9714 - val_loss: 0.2738 - val_acc: 0.9000\n",
      "Epoch 36/55\n",
      "120/120 [==============================] - 1s 9ms/step - loss: 0.0811 - acc: 0.9824 - val_loss: 0.2769 - val_acc: 0.9038\n",
      "Epoch 37/55\n",
      "120/120 [==============================] - 1s 8ms/step - loss: 0.0802 - acc: 0.9822 - val_loss: 0.2763 - val_acc: 0.8988\n",
      "Epoch 38/55\n",
      "120/120 [==============================] - 1s 8ms/step - loss: 0.0799 - acc: 0.9834 - val_loss: 0.2841 - val_acc: 0.9000\n",
      "Epoch 39/55\n",
      "120/120 [==============================] - 1s 9ms/step - loss: 0.0765 - acc: 0.9880 - val_loss: 0.2769 - val_acc: 0.9013\n",
      "Epoch 40/55\n",
      "120/120 [==============================] - 1s 8ms/step - loss: 0.0714 - acc: 0.9890 - val_loss: 0.2781 - val_acc: 0.9038\n",
      "Epoch 41/55\n",
      "120/120 [==============================] - 1s 8ms/step - loss: 0.0718 - acc: 0.9838 - val_loss: 0.2876 - val_acc: 0.8988\n",
      "Epoch 42/55\n",
      "120/120 [==============================] - 1s 8ms/step - loss: 0.0670 - acc: 0.9912 - val_loss: 0.2817 - val_acc: 0.9038\n",
      "Epoch 43/55\n",
      "120/120 [==============================] - 1s 8ms/step - loss: 0.0681 - acc: 0.9877 - val_loss: 0.2806 - val_acc: 0.9013\n",
      "Epoch 44/55\n",
      "120/120 [==============================] - 1s 8ms/step - loss: 0.0647 - acc: 0.9860 - val_loss: 0.2842 - val_acc: 0.9013\n",
      "Epoch 45/55\n",
      "120/120 [==============================] - 1s 8ms/step - loss: 0.0619 - acc: 0.9901 - val_loss: 0.2906 - val_acc: 0.9025\n",
      "Epoch 46/55\n",
      "120/120 [==============================] - 1s 9ms/step - loss: 0.0607 - acc: 0.9882 - val_loss: 0.2835 - val_acc: 0.9025\n",
      "Epoch 47/55\n",
      "120/120 [==============================] - 1s 8ms/step - loss: 0.0585 - acc: 0.9910 - val_loss: 0.2829 - val_acc: 0.9038\n",
      "Epoch 48/55\n",
      "120/120 [==============================] - 1s 8ms/step - loss: 0.0549 - acc: 0.9936 - val_loss: 0.2870 - val_acc: 0.9025\n",
      "Epoch 49/55\n",
      "120/120 [==============================] - 1s 8ms/step - loss: 0.0511 - acc: 0.9915 - val_loss: 0.2874 - val_acc: 0.9025\n",
      "Epoch 50/55\n",
      "120/120 [==============================] - 1s 8ms/step - loss: 0.0476 - acc: 0.9922 - val_loss: 0.2871 - val_acc: 0.9038\n",
      "Epoch 51/55\n",
      "120/120 [==============================] - 1s 8ms/step - loss: 0.0494 - acc: 0.9897 - val_loss: 0.2895 - val_acc: 0.9038\n",
      "Epoch 52/55\n",
      "120/120 [==============================] - 1s 8ms/step - loss: 0.0447 - acc: 0.9935 - val_loss: 0.2897 - val_acc: 0.9050\n",
      "Epoch 53/55\n",
      "120/120 [==============================] - 1s 9ms/step - loss: 0.0424 - acc: 0.9941 - val_loss: 0.2911 - val_acc: 0.9062\n",
      "Epoch 54/55\n",
      "120/120 [==============================] - 1s 9ms/step - loss: 0.0488 - acc: 0.9913 - val_loss: 0.2984 - val_acc: 0.9038\n",
      "Epoch 55/55\n",
      "120/120 [==============================] - 1s 9ms/step - loss: 0.0437 - acc: 0.9888 - val_loss: 0.2945 - val_acc: 0.9025\n"
     ]
    }
   ],
   "source": [
    "# activation to softmax\n",
    "# loss to catergorical cross entropy \n",
    "from keras import models\n",
    "from keras import layers\n",
    "from keras import optimizers\n",
    "from tensorflow import keras\n",
    "from tensorflow.keras import layers\n",
    "from keras.models import Sequential\n",
    "from keras.layers import Dense, Conv2D, Flatten\n",
    "\n",
    "model_5 = models.Sequential()\n",
    "#model_5.add(Conv2D(64, kernel_size=3, activation='relu', input_dim=4*4*512))\n",
    "model_5.add(layers.Dense(256, activation='relu', input_dim=4 * 4 * 512))\n",
    "model_5.add(layers.Dropout(0.5))\n",
    "model_5.add(layers.Dense(1, activation='sigmoid'))\n",
    "# change units to number of classes \n",
    "#model_5.add(Dense(units=3,activation=\"softmax\"))\n",
    "\n",
    "# for loss use 'catergorical_crossentropy'\n",
    "model_5.compile(optimizer=optimizers.RMSprop(lr=2e-5),\n",
    "              loss='binary_crossentropy',\n",
    "              metrics=['acc'])\n",
    "\n",
    "history = model_5.fit(train_features, train_labels,\n",
    "                    epochs=55,\n",
    "                    batch_size=20,\n",
    "                    validation_data=(validation_features, validation_labels))"
   ]
  },
  {
   "cell_type": "code",
   "execution_count": 23,
   "id": "documented-navigation",
   "metadata": {},
   "outputs": [
    {
     "name": "stdout",
     "output_type": "stream",
     "text": [
      "25/25 [==============================] - 0s 2ms/step - loss: 0.2945 - acc: 0.9025\n",
      "Accuracy:  0.9024999737739563\n"
     ]
    }
   ],
   "source": [
    "accuracy = model_5.evaluate(x=validation_features,y=validation_labels,batch_size=32)\n",
    "print(\"Accuracy: \", accuracy[1])"
   ]
  },
  {
   "cell_type": "code",
   "execution_count": 19,
   "id": "becoming-register",
   "metadata": {},
   "outputs": [
    {
     "name": "stdout",
     "output_type": "stream",
     "text": [
      "INFO:tensorflow:Assets written to: /Users/jamesgardner/Desktop/assets\n"
     ]
    }
   ],
   "source": [
    "#model_2.save('/Users/jamesgardner/Desktop')\n",
    "#model_2 = keras.models.load_model('/Users/jamesgardner/Desktop')"
   ]
  },
  {
   "cell_type": "code",
   "execution_count": 24,
   "id": "peripheral-affiliation",
   "metadata": {},
   "outputs": [],
   "source": [
    "from keras.preprocessing.image import load_img\n",
    "from keras.preprocessing.image import img_to_array\n",
    "from keras.applications.vgg16 import preprocess_input\n",
    "from keras.applications.vgg16 import decode_predictions\n",
    "from keras.applications.vgg16 import VGG16"
   ]
  },
  {
   "cell_type": "markdown",
   "id": "extended-cologne",
   "metadata": {},
   "source": [
    "# Results Analysis"
   ]
  },
  {
   "cell_type": "code",
   "execution_count": 25,
   "id": "identified-starter",
   "metadata": {},
   "outputs": [
    {
     "name": "stderr",
     "output_type": "stream",
     "text": [
      "/Users/jamesgardner/opt/anaconda3/envs/metis/lib/python3.8/site-packages/keras/engine/sequential.py:450: UserWarning: `model.predict_classes()` is deprecated and will be removed after 2021-01-01. Please use instead:* `np.argmax(model.predict(x), axis=-1)`,   if your model does multi-class classification   (e.g. if it uses a `softmax` last-layer activation).* `(model.predict(x) > 0.5).astype(\"int32\")`,   if your model does binary classification   (e.g. if it uses a `sigmoid` last-layer activation).\n",
      "  warnings.warn('`model.predict_classes()` is deprecated and '\n"
     ]
    }
   ],
   "source": [
    "val_files = generator_val.filenames\n",
    "CLASS_PAIR = []\n",
    "for i in range(800):\n",
    "    IMG = validation_features[i]\n",
    "    LABEL = validation_labels[i]\n",
    "    TEST_IMG = IMG.reshape((1,8192))\n",
    "    IMG_CLASS = model_5.predict_classes(TEST_IMG)\n",
    "    #model_2.predict_classes(test_img)\n",
    "    MAP_CLASS = {0:'Siberian',1:'Scottish'}\n",
    "    PREDICTION = IMG_CLASS[0][0]\n",
    "    VAL_SET_ORIGINAL = val_files[i]\n",
    "    PAIR = (PREDICTION,LABEL,VAL_SET_ORIGINAL)\n",
    "    CLASS_PAIR.append(PAIR)\n",
    "   "
   ]
  },
  {
   "cell_type": "code",
   "execution_count": 26,
   "id": "starting-marijuana",
   "metadata": {},
   "outputs": [
    {
     "data": {
      "text/plain": [
       "{'SB': 0, 'SF': 1}"
      ]
     },
     "execution_count": 26,
     "metadata": {},
     "output_type": "execute_result"
    }
   ],
   "source": [
    "generator_val.class_indices\n"
   ]
  },
  {
   "cell_type": "code",
   "execution_count": 27,
   "id": "polar-slide",
   "metadata": {},
   "outputs": [
    {
     "data": {
      "text/html": [
       "<div>\n",
       "<style scoped>\n",
       "    .dataframe tbody tr th:only-of-type {\n",
       "        vertical-align: middle;\n",
       "    }\n",
       "\n",
       "    .dataframe tbody tr th {\n",
       "        vertical-align: top;\n",
       "    }\n",
       "\n",
       "    .dataframe thead th {\n",
       "        text-align: right;\n",
       "    }\n",
       "</style>\n",
       "<table border=\"1\" class=\"dataframe\">\n",
       "  <thead>\n",
       "    <tr style=\"text-align: right;\">\n",
       "      <th></th>\n",
       "      <th>FileName</th>\n",
       "      <th>Prediction</th>\n",
       "      <th>Actual</th>\n",
       "    </tr>\n",
       "  </thead>\n",
       "  <tbody>\n",
       "    <tr>\n",
       "      <th>0</th>\n",
       "      <td>0</td>\n",
       "      <td>0.0</td>\n",
       "      <td>SB/siberian1049.jpg</td>\n",
       "    </tr>\n",
       "    <tr>\n",
       "      <th>1</th>\n",
       "      <td>0</td>\n",
       "      <td>0.0</td>\n",
       "      <td>SB/siberian1061.jpg</td>\n",
       "    </tr>\n",
       "    <tr>\n",
       "      <th>2</th>\n",
       "      <td>0</td>\n",
       "      <td>0.0</td>\n",
       "      <td>SB/siberian1062.jpg</td>\n",
       "    </tr>\n",
       "    <tr>\n",
       "      <th>3</th>\n",
       "      <td>1</td>\n",
       "      <td>0.0</td>\n",
       "      <td>SB/siberian1063.jpg</td>\n",
       "    </tr>\n",
       "    <tr>\n",
       "      <th>4</th>\n",
       "      <td>0</td>\n",
       "      <td>0.0</td>\n",
       "      <td>SB/siberian1066.jpg</td>\n",
       "    </tr>\n",
       "    <tr>\n",
       "      <th>...</th>\n",
       "      <td>...</td>\n",
       "      <td>...</td>\n",
       "      <td>...</td>\n",
       "    </tr>\n",
       "    <tr>\n",
       "      <th>795</th>\n",
       "      <td>1</td>\n",
       "      <td>1.0</td>\n",
       "      <td>SF/scottish937.jpg</td>\n",
       "    </tr>\n",
       "    <tr>\n",
       "      <th>796</th>\n",
       "      <td>1</td>\n",
       "      <td>1.0</td>\n",
       "      <td>SF/scottish938.jpg</td>\n",
       "    </tr>\n",
       "    <tr>\n",
       "      <th>797</th>\n",
       "      <td>1</td>\n",
       "      <td>1.0</td>\n",
       "      <td>SF/scottish97.jpg</td>\n",
       "    </tr>\n",
       "    <tr>\n",
       "      <th>798</th>\n",
       "      <td>1</td>\n",
       "      <td>1.0</td>\n",
       "      <td>SF/scottish98.jpg</td>\n",
       "    </tr>\n",
       "    <tr>\n",
       "      <th>799</th>\n",
       "      <td>1</td>\n",
       "      <td>1.0</td>\n",
       "      <td>SF/scottish99.jpg</td>\n",
       "    </tr>\n",
       "  </tbody>\n",
       "</table>\n",
       "<p>800 rows × 3 columns</p>\n",
       "</div>"
      ],
      "text/plain": [
       "     FileName  Prediction               Actual\n",
       "0           0         0.0  SB/siberian1049.jpg\n",
       "1           0         0.0  SB/siberian1061.jpg\n",
       "2           0         0.0  SB/siberian1062.jpg\n",
       "3           1         0.0  SB/siberian1063.jpg\n",
       "4           0         0.0  SB/siberian1066.jpg\n",
       "..        ...         ...                  ...\n",
       "795         1         1.0   SF/scottish937.jpg\n",
       "796         1         1.0   SF/scottish938.jpg\n",
       "797         1         1.0    SF/scottish97.jpg\n",
       "798         1         1.0    SF/scottish98.jpg\n",
       "799         1         1.0    SF/scottish99.jpg\n",
       "\n",
       "[800 rows x 3 columns]"
      ]
     },
     "execution_count": 27,
     "metadata": {},
     "output_type": "execute_result"
    }
   ],
   "source": [
    "import pandas as pd\n",
    "BINARY_RESULTS = pd.DataFrame(CLASS_PAIR, columns = {'Prediction','Actual','FileName'})\n",
    "BINARY_RESULTS"
   ]
  },
  {
   "cell_type": "code",
   "execution_count": 28,
   "id": "cubic-loading",
   "metadata": {},
   "outputs": [
    {
     "data": {
      "text/html": [
       "<div>\n",
       "<style scoped>\n",
       "    .dataframe tbody tr th:only-of-type {\n",
       "        vertical-align: middle;\n",
       "    }\n",
       "\n",
       "    .dataframe tbody tr th {\n",
       "        vertical-align: top;\n",
       "    }\n",
       "\n",
       "    .dataframe thead th {\n",
       "        text-align: right;\n",
       "    }\n",
       "</style>\n",
       "<table border=\"1\" class=\"dataframe\">\n",
       "  <thead>\n",
       "    <tr style=\"text-align: right;\">\n",
       "      <th></th>\n",
       "      <th>Prediction</th>\n",
       "      <th>Actual</th>\n",
       "      <th>FileName</th>\n",
       "    </tr>\n",
       "  </thead>\n",
       "  <tbody>\n",
       "    <tr>\n",
       "      <th>0</th>\n",
       "      <td>0</td>\n",
       "      <td>0.0</td>\n",
       "      <td>SB/siberian1049.jpg</td>\n",
       "    </tr>\n",
       "    <tr>\n",
       "      <th>1</th>\n",
       "      <td>0</td>\n",
       "      <td>0.0</td>\n",
       "      <td>SB/siberian1061.jpg</td>\n",
       "    </tr>\n",
       "    <tr>\n",
       "      <th>2</th>\n",
       "      <td>0</td>\n",
       "      <td>0.0</td>\n",
       "      <td>SB/siberian1062.jpg</td>\n",
       "    </tr>\n",
       "    <tr>\n",
       "      <th>3</th>\n",
       "      <td>1</td>\n",
       "      <td>0.0</td>\n",
       "      <td>SB/siberian1063.jpg</td>\n",
       "    </tr>\n",
       "    <tr>\n",
       "      <th>4</th>\n",
       "      <td>0</td>\n",
       "      <td>0.0</td>\n",
       "      <td>SB/siberian1066.jpg</td>\n",
       "    </tr>\n",
       "    <tr>\n",
       "      <th>...</th>\n",
       "      <td>...</td>\n",
       "      <td>...</td>\n",
       "      <td>...</td>\n",
       "    </tr>\n",
       "    <tr>\n",
       "      <th>795</th>\n",
       "      <td>1</td>\n",
       "      <td>1.0</td>\n",
       "      <td>SF/scottish937.jpg</td>\n",
       "    </tr>\n",
       "    <tr>\n",
       "      <th>796</th>\n",
       "      <td>1</td>\n",
       "      <td>1.0</td>\n",
       "      <td>SF/scottish938.jpg</td>\n",
       "    </tr>\n",
       "    <tr>\n",
       "      <th>797</th>\n",
       "      <td>1</td>\n",
       "      <td>1.0</td>\n",
       "      <td>SF/scottish97.jpg</td>\n",
       "    </tr>\n",
       "    <tr>\n",
       "      <th>798</th>\n",
       "      <td>1</td>\n",
       "      <td>1.0</td>\n",
       "      <td>SF/scottish98.jpg</td>\n",
       "    </tr>\n",
       "    <tr>\n",
       "      <th>799</th>\n",
       "      <td>1</td>\n",
       "      <td>1.0</td>\n",
       "      <td>SF/scottish99.jpg</td>\n",
       "    </tr>\n",
       "  </tbody>\n",
       "</table>\n",
       "<p>800 rows × 3 columns</p>\n",
       "</div>"
      ],
      "text/plain": [
       "     Prediction  Actual             FileName\n",
       "0             0     0.0  SB/siberian1049.jpg\n",
       "1             0     0.0  SB/siberian1061.jpg\n",
       "2             0     0.0  SB/siberian1062.jpg\n",
       "3             1     0.0  SB/siberian1063.jpg\n",
       "4             0     0.0  SB/siberian1066.jpg\n",
       "..          ...     ...                  ...\n",
       "795           1     1.0   SF/scottish937.jpg\n",
       "796           1     1.0   SF/scottish938.jpg\n",
       "797           1     1.0    SF/scottish97.jpg\n",
       "798           1     1.0    SF/scottish98.jpg\n",
       "799           1     1.0    SF/scottish99.jpg\n",
       "\n",
       "[800 rows x 3 columns]"
      ]
     },
     "execution_count": 28,
     "metadata": {},
     "output_type": "execute_result"
    }
   ],
   "source": [
    "BINARY_RESULTS.rename(columns={'Prediction': 'Actual', 'FileName': 'Prediction','Actual':'FileName'}, inplace=True)\n",
    "BINARY_RESULTS"
   ]
  },
  {
   "cell_type": "code",
   "execution_count": 43,
   "id": "turkish-lobby",
   "metadata": {},
   "outputs": [],
   "source": [
    "# making masks for confusion matrix \n",
    "BINARY_RESULTS.sample(50)\n",
    "correct_scottish = (BINARY_RESULTS['Actual'] == 1) & (BINARY_RESULTS['Prediction'] == 1.0)\n",
    "correct_siberian = (BINARY_RESULTS['Actual'] == 0) & (BINARY_RESULTS['Prediction'] == 0.0)\n",
    "actually_siberian = (BINARY_RESULTS['Actual'] == 0) & (BINARY_RESULTS['Prediction'] == 1.0)\n",
    "actually_scottish = (BINARY_RESULTS['Actual'] == 1) & (BINARY_RESULTS['Prediction'] == 0.0)"
   ]
  },
  {
   "cell_type": "code",
   "execution_count": 44,
   "id": "mature-pittsburgh",
   "metadata": {},
   "outputs": [],
   "source": [
    "Actually_Siberian = BINARY_RESULTS[actually_siberian]\n",
    "Actually_Siberian.reset_index(inplace=True,drop=True)\n"
   ]
  },
  {
   "cell_type": "code",
   "execution_count": 45,
   "id": "irish-lucas",
   "metadata": {},
   "outputs": [],
   "source": [
    "Actually_Scottish = BINARY_RESULTS[actually_scottish]\n",
    "Actually_Scottish.reset_index(inplace=True,drop=True)"
   ]
  },
  {
   "cell_type": "code",
   "execution_count": 46,
   "id": "automated-pipeline",
   "metadata": {},
   "outputs": [],
   "source": [
    "Correct_Scottish = BINARY_RESULTS[correct_scottish]\n",
    "Correct_Scottish.reset_index(inplace=True,drop=True)"
   ]
  },
  {
   "cell_type": "code",
   "execution_count": 48,
   "id": "finished-invite",
   "metadata": {},
   "outputs": [],
   "source": [
    "Correct_Siberian = BINARY_RESULTS[correct_siberian]\n",
    "Correct_Siberian.reset_index(inplace=True,drop=True)\n"
   ]
  },
  {
   "cell_type": "code",
   "execution_count": 50,
   "id": "decimal-nutrition",
   "metadata": {},
   "outputs": [],
   "source": [
    "import numpy as np\n",
    "import matplotlib.pyplot as plt\n",
    "from keras.preprocessing.image import load_img\n",
    "from tensorflow.keras.preprocessing import image\n",
    "\n",
    "\n",
    "# predicted scottish fold, should be siberian \n",
    "def Act_Siberian(df):\n",
    "    shp = df.shape\n",
    "    for i in range(shp[0]):\n",
    "        img_path =  '/Users/jamesgardner/Desktop/ConvolutionalNN/Splts_Binary/validation/{}'.format(df['FileName'][i])\n",
    "        img = image.load_img(img_path, target_size=(512, 512))\n",
    "        plt.imshow(img)\n",
    "        print(df['FileName'][i])\n",
    "        plt.show()\n",
    "    \n",
    "def Act_Scottish(df):\n",
    "    shp = df.shape\n",
    "    for i in range(shp[0]):\n",
    "        img_path =  '/Users/jamesgardner/Desktop/ConvolutionalNN/Splts_Binary/validation/{}'.format(df['FileName'][i])\n",
    "        img = image.load_img(img_path, target_size=(512, 512))\n",
    "        plt.imshow(img)\n",
    "        print(df['FileName'][i])\n",
    "        plt.show()\n",
    "\n",
    "# predicted Scottish , was actually scottish \n",
    "def Crct_Scottish(df):\n",
    "    shp = df.shape\n",
    "    for i in range(shp[0]):\n",
    "        img_path =  '/Users/jamesgardner/Desktop/ConvolutionalNN/Splts_Binary/validation/{}'.format(df['FileName'][i])\n",
    "        img = image.load_img(img_path, target_size=(512, 512))\n",
    "        plt.imshow(img)\n",
    "        print(df['FileName'][i])\n",
    "        plt.show()\n",
    "    \n",
    "# predicted Siberian was actually Siberian \n",
    "def Crct_Siberian(df):\n",
    "    shp = df.shape\n",
    "    for i in range(shp[0]):\n",
    "        img_path =  '/Users/jamesgardner/Desktop/ConvolutionalNN/Splts_Binary/validation/{}'.format(df['FileName'][i])\n",
    "        img = image.load_img(img_path, target_size=(512, 512))\n",
    "        plt.imshow(img)\n",
    "        print(df['FileName'][i])\n",
    "        plt.show()\n",
    "    \n",
    "    \n",
    "\n",
    "\n",
    "    \n",
    "    \n",
    "    \n"
   ]
  },
  {
   "cell_type": "code",
   "execution_count": 106,
   "id": "diagnostic-philadelphia",
   "metadata": {},
   "outputs": [],
   "source": [
    "# Predicted Scottish Fold , but was actually siberian \n",
    "Act_Siberian(Actually_Siberian)"
   ]
  },
  {
   "cell_type": "code",
   "execution_count": 107,
   "id": "recorded-hepatitis",
   "metadata": {},
   "outputs": [],
   "source": [
    "# Predicted Siberian but was actually Scottish Fold\n",
    "Act_Scottish(Actually_Scottish)"
   ]
  },
  {
   "cell_type": "code",
   "execution_count": 108,
   "id": "israeli-choice",
   "metadata": {},
   "outputs": [],
   "source": [
    "# Predicted Siberian and was Actually Siberian \n",
    "Crct_Siberian(Correct_Siberian)"
   ]
  },
  {
   "cell_type": "code",
   "execution_count": 109,
   "id": "auburn-confusion",
   "metadata": {},
   "outputs": [],
   "source": [
    "Crct_Scottish(Correct_Scottish)"
   ]
  },
  {
   "cell_type": "code",
   "execution_count": 169,
   "id": "developmental-renaissance",
   "metadata": {},
   "outputs": [
    {
     "data": {
      "image/png": "[encoded data removed]",
      "text/plain": [
       "<Figure size 432x288 with 1 Axes>"
      ]
     },
     "metadata": {
      "needs_background": "light"
     },
     "output_type": "display_data"
    },
    {
     "data": {
      "image/png": "[encoded data removed]",
      "text/plain": [
       "<Figure size 432x288 with 1 Axes>"
      ]
     },
     "metadata": {
      "needs_background": "light"
     },
     "output_type": "display_data"
    }
   ],
   "source": [
    "import matplotlib.pyplot as plt\n",
    "\n",
    "acc = history.history['acc']\n",
    "val_acc = history.history['val_acc']\n",
    "loss = history.history['loss']\n",
    "val_loss = history.history['val_loss']\n",
    "\n",
    "epochs = range(len(acc))\n",
    "\n",
    "plt.plot(epochs, acc, 'bo', label='Training acc')\n",
    "plt.plot(epochs, val_acc, 'b', label='Validation acc')\n",
    "plt.title('Training and validation accuracy')\n",
    "plt.legend()\n",
    "\n",
    "plt.figure()\n",
    "\n",
    "plt.plot(epochs, loss, 'bo', label='Training loss')\n",
    "plt.plot(epochs, val_loss, 'b', label='Validation loss')\n",
    "plt.title('Training and validation loss')\n",
    "plt.legend()\n",
    "\n",
    "plt.show()"
   ]
  },
  {
   "cell_type": "markdown",
   "id": "based-uzbekistan",
   "metadata": {},
   "source": [
    "# Image Augmentation "
   ]
  },
  {
   "cell_type": "code",
   "execution_count": 233,
   "id": "bigger-villa",
   "metadata": {},
   "outputs": [],
   "source": [
    "from keras import models\n",
    "from keras import layers\n",
    "from keras.layers import Dense, Activation, Dropout, Input\n",
    "\n",
    "model_3 = models.Sequential()\n",
    "model_3.add(conv_base)\n",
    "model_3.add(layers.Flatten())\n",
    "model_3.add(layers.Dense(256, activation='relu'))\n",
    "model_3.add(layers.Dense(1, activation='sigmoid'))\n",
    "model_3.add(Dropout(0.5))"
   ]
  },
  {
   "cell_type": "code",
   "execution_count": 234,
   "id": "developed-stockholm",
   "metadata": {},
   "outputs": [],
   "source": [
    "# dont wanna train the base again\n",
    "conv_base.trainable = False\n",
    "\n"
   ]
  },
  {
   "cell_type": "code",
   "execution_count": 235,
   "id": "flexible-restriction",
   "metadata": {},
   "outputs": [
    {
     "name": "stdout",
     "output_type": "stream",
     "text": [
      "Found 2398 images belonging to 2 classes.\n",
      "Found 800 images belonging to 2 classes.\n"
     ]
    },
    {
     "name": "stderr",
     "output_type": "stream",
     "text": [
      "/Users/jamesgardner/opt/anaconda3/envs/metis/lib/python3.8/site-packages/tensorflow/python/keras/optimizer_v2/optimizer_v2.py:374: UserWarning: The `lr` argument is deprecated, use `learning_rate` instead.\n",
      "  warnings.warn(\n",
      "/Users/jamesgardner/opt/anaconda3/envs/metis/lib/python3.8/site-packages/keras/engine/training.py:1915: UserWarning: `Model.fit_generator` is deprecated and will be removed in a future version. Please use `Model.fit`, which supports generators.\n",
      "  warnings.warn('`Model.fit_generator` is deprecated and '\n"
     ]
    },
    {
     "name": "stdout",
     "output_type": "stream",
     "text": [
      "Epoch 1/30\n",
      "3/3 - 32s - loss: 6.8850 - acc: 0.4667 - val_loss: 0.7385 - val_acc: 0.4975\n",
      "Epoch 2/30\n",
      "3/3 - 27s - loss: 4.8130 - acc: 0.5167 - val_loss: 0.8165 - val_acc: 0.4900\n",
      "Epoch 3/30\n",
      "3/3 - 28s - loss: 3.5316 - acc: 0.6034 - val_loss: 0.8153 - val_acc: 0.5050\n",
      "Epoch 4/30\n",
      "3/3 - 28s - loss: 4.4520 - acc: 0.5000 - val_loss: 0.8025 - val_acc: 0.5225\n",
      "Epoch 5/30\n",
      "3/3 - 28s - loss: 3.6400 - acc: 0.6000 - val_loss: 0.8348 - val_acc: 0.5025\n",
      "Epoch 6/30\n",
      "3/3 - 27s - loss: 4.2064 - acc: 0.5167 - val_loss: 0.8500 - val_acc: 0.5200\n",
      "Epoch 7/30\n",
      "3/3 - 27s - loss: 4.4764 - acc: 0.5000 - val_loss: 0.8462 - val_acc: 0.4950\n",
      "Epoch 8/30\n",
      "3/3 - 26s - loss: 5.0149 - acc: 0.4833 - val_loss: 0.8029 - val_acc: 0.5100\n",
      "Epoch 9/30\n",
      "3/3 - 28s - loss: 2.9332 - acc: 0.6000 - val_loss: 0.8721 - val_acc: 0.4775\n",
      "Epoch 10/30\n",
      "3/3 - 27s - loss: 4.2570 - acc: 0.5500 - val_loss: 0.8162 - val_acc: 0.4825\n",
      "Epoch 11/30\n",
      "3/3 - 27s - loss: 2.6546 - acc: 0.6500 - val_loss: 0.8462 - val_acc: 0.4850\n",
      "Epoch 12/30\n",
      "3/3 - 27s - loss: 4.6441 - acc: 0.5833 - val_loss: 0.7874 - val_acc: 0.5000\n",
      "Epoch 13/30\n",
      "3/3 - 27s - loss: 4.3782 - acc: 0.5833 - val_loss: 0.7790 - val_acc: 0.4975\n",
      "Epoch 14/30\n",
      "3/3 - 29s - loss: 6.1455 - acc: 0.4667 - val_loss: 0.7838 - val_acc: 0.5100\n",
      "Epoch 15/30\n",
      "3/3 - 26s - loss: 5.2499 - acc: 0.4667 - val_loss: 0.7952 - val_acc: 0.5325\n",
      "Epoch 16/30\n",
      "3/3 - 27s - loss: 3.9013 - acc: 0.5833 - val_loss: 0.7187 - val_acc: 0.5250\n",
      "Epoch 17/30\n",
      "3/3 - 26s - loss: 5.5417 - acc: 0.5172 - val_loss: 0.7687 - val_acc: 0.5075\n",
      "Epoch 18/30\n",
      "3/3 - 28s - loss: 3.9288 - acc: 0.5833 - val_loss: 0.7393 - val_acc: 0.5200\n",
      "Epoch 19/30\n",
      "3/3 - 27s - loss: 3.4508 - acc: 0.6167 - val_loss: 0.8046 - val_acc: 0.5150\n",
      "Epoch 20/30\n",
      "3/3 - 27s - loss: 5.8700 - acc: 0.4667 - val_loss: 0.8185 - val_acc: 0.4800\n",
      "Epoch 21/30\n",
      "3/3 - 27s - loss: 3.9174 - acc: 0.5667 - val_loss: 0.7488 - val_acc: 0.5150\n",
      "Epoch 22/30\n",
      "3/3 - 28s - loss: 3.2207 - acc: 0.5833 - val_loss: 0.7777 - val_acc: 0.5075\n",
      "Epoch 23/30\n",
      "3/3 - 28s - loss: 4.7342 - acc: 0.5000 - val_loss: 0.7878 - val_acc: 0.5075\n",
      "Epoch 24/30\n",
      "3/3 - 28s - loss: 4.4894 - acc: 0.6552 - val_loss: 0.7491 - val_acc: 0.5150\n",
      "Epoch 25/30\n",
      "3/3 - 27s - loss: 4.3643 - acc: 0.6167 - val_loss: 0.6846 - val_acc: 0.5525\n",
      "Epoch 26/30\n",
      "3/3 - 29s - loss: 5.3991 - acc: 0.5500 - val_loss: 0.6426 - val_acc: 0.6100\n",
      "Epoch 27/30\n",
      "3/3 - 29s - loss: 3.4657 - acc: 0.5500 - val_loss: 0.7011 - val_acc: 0.5475\n",
      "Epoch 28/30\n",
      "3/3 - 27s - loss: 4.1251 - acc: 0.6333 - val_loss: 0.7528 - val_acc: 0.5275\n",
      "Epoch 29/30\n",
      "3/3 - 28s - loss: 4.5047 - acc: 0.5500 - val_loss: 0.8283 - val_acc: 0.5200\n",
      "Epoch 30/30\n",
      "3/3 - 27s - loss: 5.6825 - acc: 0.4833 - val_loss: 0.8045 - val_acc: 0.5225\n"
     ]
    }
   ],
   "source": [
    "from keras.preprocessing.image import ImageDataGenerator\n",
    "\n",
    "# data augmentation configuration \n",
    "train_datagen = ImageDataGenerator(\n",
    "      rescale=1./255,\n",
    "      rotation_range=20,\n",
    "      width_shift_range=0.2,\n",
    "      height_shift_range=0.2,\n",
    "      shear_range=0.2,\n",
    "      zoom_range=0.2,\n",
    "      horizontal_flip=True,\n",
    "      fill_mode='nearest')\n",
    "\n",
    "# Note that the validation data should not be augmented!\n",
    "test_datagen = ImageDataGenerator(rescale=1./255)\n",
    "\n",
    "train_generator = train_datagen.flow_from_directory(\n",
    "        # This is the target directory\n",
    "        train,\n",
    "        # All images will be resized to 150x150\n",
    "        target_size=(150, 150),\n",
    "        batch_size=20,\n",
    "        # Since we use binary_crossentropy loss, we need binary labels\n",
    "        class_mode='binary')\n",
    "\n",
    "validation_generator = test_datagen.flow_from_directory(\n",
    "        val,\n",
    "        target_size=(150, 150),\n",
    "        batch_size=20,\n",
    "        class_mode='binary')\n",
    "\n",
    "model_3.compile(loss='binary_crossentropy',\n",
    "              optimizer=optimizers.RMSprop(lr=2e-5),\n",
    "              metrics=['acc'])\n",
    "\n",
    "history = model_3.fit_generator(\n",
    "      train_generator,\n",
    "      steps_per_epoch=len(train)//batch_size,\n",
    "      epochs=30,\n",
    "      validation_data=validation_generator,\n",
    "      validation_steps=20,\n",
    "      verbose=2)\n",
    "\n"
   ]
  },
  {
   "cell_type": "code",
   "execution_count": 89,
   "id": "congressional-clearing",
   "metadata": {},
   "outputs": [
    {
     "name": "stdout",
     "output_type": "stream",
     "text": [
      "Found 6 images belonging to 2 classes.\n"
     ]
    }
   ],
   "source": [
    "# Testing on images outside my data set \n",
    "test_pets = '/Users/jamesgardner/Desktop/test_pets'\n",
    "test_features_pets, test_labels_pets,generator_test_pets = extract_features(test_pets, 6)"
   ]
  }
 ],
 "metadata": {
  "kernelspec": {
   "display_name": "Python [conda env:metis] *",
   "language": "python",
   "name": "conda-env-metis-py"
  },
  "language_info": {
   "codemirror_mode": {
    "name": "ipython",
    "version": 3
   },
   "file_extension": ".py",
   "mimetype": "text/x-python",
   "name": "python",
   "nbconvert_exporter": "python",
   "pygments_lexer": "ipython3",
   "version": "3.8.8"
  }
 },
 "nbformat": 4,
 "nbformat_minor": 5
}
