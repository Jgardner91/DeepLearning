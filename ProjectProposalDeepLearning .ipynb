{
 "cells": [
  {
   "cell_type": "markdown",
   "id": "inappropriate-assessment",
   "metadata": {},
   "source": [
    "# Project Proposal \n",
    "\n",
    "## Question/Need\n",
    "\n",
    "The purpose of my project is to analyze golf course difficulty using Neural Networks. Difficulty rating is defined as how many strokes, on average, a scratch(par) golfer shoots above or below par for the specified course. So for example. A course with a Par of 70 and a difficulty rating of 73 means that on average a scratch golfer shoots 3 strokes over par. So it is a relatively difficult course. \n",
    "\n",
    "The goal is to use Neural Networks to build a regression model that can predict the course difficulty based on an image of the course. \n",
    "\n",
    "The possible benifits could be consumer or buisness facing. It could benifit consumers to be able to look at a course and see how difficult it could be without actually looking at the rating. From a buisness standpoint it could benefit golf course architects when constructing new courses, allowing them to see what features make courses more difficult \n",
    "\n",
    "## Data/Description\n",
    "\n",
    "Data was scraped from golfnow.com. Each course has a collection of photos as well as a difficulty rating associated with it. So one data point would be Photo of course as a feature and difficulty rating as a target. \n",
    "\n",
    "## Tools \n",
    "\n",
    "Will you use python/pandas for web scraping and modeling.\n",
    "\n",
    "## MVP \n",
    "\n",
    "Mvp will be a baseline model using Convulational Neural Newtorks. With MSE and R^2 baseline scores. "
   ]
  },
  {
   "cell_type": "code",
   "execution_count": null,
   "id": "guilty-dragon",
   "metadata": {},
   "outputs": [],
   "source": []
  }
 ],
 "metadata": {
  "kernelspec": {
   "display_name": "Python [conda env:metis] *",
   "language": "python",
   "name": "conda-env-metis-py"
  },
  "language_info": {
   "codemirror_mode": {
    "name": "ipython",
    "version": 3
   },
   "file_extension": ".py",
   "mimetype": "text/x-python",
   "name": "python",
   "nbconvert_exporter": "python",
   "pygments_lexer": "ipython3",
   "version": "3.8.8"
  }
 },
 "nbformat": 4,
 "nbformat_minor": 5
}
