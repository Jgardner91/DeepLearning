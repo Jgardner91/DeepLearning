{
 "cells": [
  {
   "cell_type": "markdown",
   "id": "meaning-cycle",
   "metadata": {},
   "source": [
    "# Classifying Cat Breeds with Convoltional Neural Networks\n",
    "\n",
    "Jimmy Gardner\n",
    "\n",
    "*---------------------------------------------------------------------------------------*\n",
    "\n",
    "## Abstract\n",
    "*---------------------------------------------------------------------------------------*\n",
    "\n",
    "The goal of this project was to use Neural Networks , specifically Convolutional Neural Networks to classify cat breeds. The goal was to start with a binary classification model then progress to multi class. The applicational goal was to develop a 15-20 class\n",
    "model that could be used by animal shelters to determine the breed of a cat that was  brought to the clinic, in hopes that better identification would lead to higher adoption rates(i.e. people looking for specific breeds)\n",
    "\n",
    "## Design\n",
    "\n",
    "There were two main elements of design in this project. The first element was the data extraction portion. Developing an efficient web scraping pipeline to quickly extract images from the internet. The second was choice of model. Convulutional Neural Networks were chosen over a simple Multi layer perceptron neural network because the convolving layers do a better job at distinguishing important features of an input image. The final model was developed with transfer learning. Using the VGG16 model as the base for my convulutional model. This model was tested on a binary classification problem and a multi_class(3) problem.\n",
    "\n",
    "## Data\n",
    "\n",
    "The dataset contains over 8,000 cat images. The images are further broken down into 3 breeds, with roughly 2,000 images in each breed. The breeds are Siberian, Scottish Fold, and Persian. Other breeds were scraped but they werent included in the model. The data was scraped from GettyImages. There was an initial data pipeline that sraped images from a google search query. I decided on the GettyImages because there were better quality images and more of them. \n",
    "\n",
    "## Models\n",
    "\n",
    "Baseline Model: \n",
    "\n",
    "Convolutional Neural Network, with 5 convultional layers with kernal size of 3X3 with filters doubling in each layer except for the last layer , all using relu as their activation function. There are 4 pooling layers inbetween these 5 convolutional layers. Then the dense layer uses sigmoid for its activation funtction \n",
    "\n",
    "Transfer Model: \n",
    "\n",
    "Used the VG166 archictecture for feature extraction to use in a densely connected model which had one dense layer with relu activation and a dropout layer. The VGG16 layer acrhictecure can be found https://medium.com/analytics-vidhya/vggnet-architecture-explained-e5c7318aa5b6\n",
    "\n",
    "Transfer Model with Image Augmentation: \n",
    "\n",
    "Built on top of the VG166 model again using the same features as above except this time adding an image augment function , reshaping the training data with various geometric tweeks. \n",
    "\n",
    "MultiClass Model: \n",
    "\n",
    "Built on top of the VGG16 model again using the same features as above. But this time used softmax for my output layer. \n",
    "\n",
    "\n",
    "## Results\n",
    "\n",
    "Baseline Model : 81% on val accuracy \n",
    "Transfer Model: 90% on val accuracy\n",
    "Transfer Model w/Image Augmentation: 55% on val accuracy \n",
    "Multi-Class(3): 51% on val accuracy \n",
    "\n",
    "## Tools\n",
    "\n",
    "Keras for modeling "
   ]
  },
  {
   "cell_type": "code",
   "execution_count": null,
   "id": "heavy-removal",
   "metadata": {},
   "outputs": [],
   "source": []
  }
 ],
 "metadata": {
  "kernelspec": {
   "display_name": "Python [conda env:metis] *",
   "language": "python",
   "name": "conda-env-metis-py"
  },
  "language_info": {
   "codemirror_mode": {
    "name": "ipython",
    "version": 3
   },
   "file_extension": ".py",
   "mimetype": "text/x-python",
   "name": "python",
   "nbconvert_exporter": "python",
   "pygments_lexer": "ipython3",
   "version": "3.8.8"
  }
 },
 "nbformat": 4,
 "nbformat_minor": 5
}
